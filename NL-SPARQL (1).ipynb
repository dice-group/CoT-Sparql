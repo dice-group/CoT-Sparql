{
 "cells": [
  {
   "cell_type": "markdown",
   "id": "669c213e-5a88-45fd-80ab-abc552edb6ab",
   "metadata": {},
   "source": [
    "## Generating SPARQL using Code LlaMa"
   ]
  },
  {
   "cell_type": "markdown",
   "id": "687bb0e5-8202-4130-8c34-9484a491e2e3",
   "metadata": {},
   "source": [
    "### Setup of Code LLaMa 34B Quantized"
   ]
  },
  {
   "cell_type": "code",
   "execution_count": 1,
   "id": "90528464-9ed8-4c46-8362-13d3c4a03f7f",
   "metadata": {
    "tags": []
   },
   "outputs": [
    {
     "name": "stderr",
     "output_type": "stream",
     "text": [
      "skip module injection for FusedLlamaMLPForQuantizedModel not support integrate without triton yet.\n"
     ]
    }
   ],
   "source": [
    "from transformers import AutoTokenizer, pipeline, logging\n",
    "from auto_gptq import AutoGPTQForCausalLM, BaseQuantizeConfig\n",
    "import time\n",
    "\n",
    "\n",
    "model_name_or_path = \"TheBloke/CodeLlama-34B-Instruct-GPTQ\"\n",
    "model_basename = \"model\"\n",
    "\n",
    "use_triton = False\n",
    "\n",
    "tokenizer = AutoTokenizer.from_pretrained(model_name_or_path, use_fast=True)\n",
    "\n",
    "model = AutoGPTQForCausalLM.from_quantized(model_name_or_path,\n",
    "        model_basename=model_basename,\n",
    "        use_safetensors=True,\n",
    "        trust_remote_code=True,\n",
    "        device=\"cuda:0\",\n",
    "        skip_special_tokens= True, \n",
    "        use_triton=use_triton,        \n",
    "        quantize_config=None)"
   ]
  },
  {
   "cell_type": "code",
   "execution_count": 2,
   "id": "e3f8d8a9-cc2a-449e-a567-8dbb0e0be6cf",
   "metadata": {
    "tags": []
   },
   "outputs": [],
   "source": [
    "# Prevent printing spurious transformers error when using pipeline with AutoGPTQ\n",
    "logging.set_verbosity(logging.CRITICAL)\n",
    "\n",
    "pipe = pipeline(\n",
    "    \"text-generation\",\n",
    "    model=model,\n",
    "    tokenizer=tokenizer,\n",
    "    use_cache=True,\n",
    "    device_map=\"auto\",    \n",
    "    do_sample=True,\n",
    "    top_k=10,\n",
    "    temperature=0.1,\n",
    "    max_length=700,\n",
    "    repetition_penalty=1.1,  \n",
    "    num_return_sequences=1,\n",
    "    eos_token_id=tokenizer.eos_token_id,\n",
    "    pad_token_id=tokenizer.eos_token_id,)"
   ]
  },
  {
   "cell_type": "code",
   "execution_count": 11,
   "id": "d3ee48b9-24cb-46cc-a817-fea50754e54e",
   "metadata": {
    "tags": []
   },
   "outputs": [],
   "source": [
    "instruction = \"\"\"[INST]\n",
    "Task: convert question to SPARQL query for DBpedia knowledge graph.\\n\n",
    "Description: given an input question and a list of DBpedia URIs for the mentioned entities in the question. Write a correct SPARQL code to query these DBPedia URIs in DBpedia Knowledge graph. Please wrap your SPARQL code answer using ``` :\n",
    " \\n\n",
    "\n",
    "You can formulate your SPARQL query as the following examples. \\n\n",
    "<examples>\n",
    "[question] : \"what is the highest mountain in saxony germany?\"\n",
    "[entiteis] : ('saxony: <http://dbpedia.org/resource/Saxony>', 'germany: <http://dbpedia.org/resource/Germany>')\n",
    "\n",
    "\\n\n",
    "SPARQL:\n",
    "sparql: ```PREFIX dbo: <http://dbpedia.org/ontology/> PREFIX dbr: <http://dbpedia.org/resource/> SELECT ?m WHERE { ?m dbo:mountainRange dbr:Ore_Mountains ; dbo:elevation ?height } ORDER BY DESC(?height) LIMIT 1```\"\n",
    "</examples>\n",
    "\n",
    "[/INST]\n",
    "\"\"\"\n",
    "    \n",
    "def generate_sparql(question,entities): \n",
    "    \n",
    "    sparql_prompt= instruction+'\\n [question]:'+ question+' [entities] : ['+ ','.join(entities)+']'\n",
    "    \n",
    "    #response=pipe(sparql_prompt)\n",
    "    response = pipe(sparql_prompt)[0]['generated_text']\n",
    "    #print(response)\n",
    "    #sparql= response[0][\"generated_text\"].split(\"<</SYS>>\")[1]\n",
    "    \n",
    "    return response.split('[/INST]')[1].split('```')[1]"
   ]
  },
  {
   "cell_type": "code",
   "execution_count": 12,
   "id": "6704eaf0-8790-4d99-b2ca-57d27c4b8bf1",
   "metadata": {
    "tags": []
   },
   "outputs": [
    {
     "data": {
      "text/plain": [
       "'SELECT?capital WHERE { <http://dbpedia.org/resource/Germany> <http://dbpedia.org/ontology/capital>?capital }'"
      ]
     },
     "execution_count": 12,
     "metadata": {},
     "output_type": "execute_result"
    }
   ],
   "source": [
    "generate_sparql(\"what is the capital of Germany?\",\"Germany\")"
   ]
  },
  {
   "cell_type": "code",
   "execution_count": null,
   "id": "8e1fbc61-b951-448e-9e42-eb9794197e07",
   "metadata": {},
   "outputs": [],
   "source": []
  }
 ],
 "metadata": {
  "kernelspec": {
   "display_name": "sparqlgen",
   "language": "python",
   "name": "sparqlgen"
  },
  "language_info": {
   "codemirror_mode": {
    "name": "ipython",
    "version": 3
   },
   "file_extension": ".py",
   "mimetype": "text/x-python",
   "name": "python",
   "nbconvert_exporter": "python",
   "pygments_lexer": "ipython3",
   "version": "3.10.0"
  }
 },
 "nbformat": 4,
 "nbformat_minor": 5
}
