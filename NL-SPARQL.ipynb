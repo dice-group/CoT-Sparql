{
 "cells": [
  {
   "cell_type": "markdown",
   "id": "669c213e-5a88-45fd-80ab-abc552edb6ab",
   "metadata": {},
   "source": [
    "## Generating SPARQL using Code LlaMa"
   ]
  },
  {
   "cell_type": "markdown",
   "id": "687bb0e5-8202-4130-8c34-9484a491e2e3",
   "metadata": {},
   "source": [
    "### Setup of Code LLaMa 34B Quantized"
   ]
  },
  {
   "cell_type": "code",
   "execution_count": null,
   "id": "90528464-9ed8-4c46-8362-13d3c4a03f7f",
   "metadata": {},
   "outputs": [],
   "source": [
    "from transformers import AutoTokenizer, pipeline, logging\n",
    "from auto_gptq import AutoGPTQForCausalLM, BaseQuantizeConfig\n",
    "import time\n",
    "\n",
    "\n",
    "model_name_or_path = \"TheBloke/CodeLlama-34B-Instruct-GPTQ\"\n",
    "model_basename = \"model\"\n",
    "\n",
    "use_triton = False\n",
    "\n",
    "tokenizer = AutoTokenizer.from_pretrained(model_name_or_path, use_fast=True)\n",
    "\n",
    "model = AutoGPTQForCausalLM.from_quantized(model_name_or_path,\n",
    "        model_basename=model_basename,\n",
    "        use_safetensors=True,\n",
    "        trust_remote_code=True,\n",
    "        device=\"cuda:0\",\n",
    "        skip_special_tokens= True, \n",
    "        use_triton=use_triton,        \n",
    "        quantize_config=None)"
   ]
  },
  {
   "cell_type": "code",
   "execution_count": null,
   "id": "e3f8d8a9-cc2a-449e-a567-8dbb0e0be6cf",
   "metadata": {},
   "outputs": [],
   "source": [
    "# Prevent printing spurious transformers error when using pipeline with AutoGPTQ\n",
    "logging.set_verbosity(logging.CRITICAL)\n",
    "\n",
    "pipe = pipeline(\n",
    "    \"text-generation\",\n",
    "    model=model,\n",
    "    tokenizer=tokenizer,\n",
    "    use_cache=True,\n",
    "    device_map=\"auto\",    \n",
    "    do_sample=True,\n",
    "    top_k=10,\n",
    "    temperature=0.1,\n",
    "    max_length=700,\n",
    "    repetition_penalty=1.1,  \n",
    "    num_return_sequences=1,\n",
    "    eos_token_id=tokenizer.eos_token_id,\n",
    "    pad_token_id=tokenizer.eos_token_id,)"
   ]
  }
 ],
 "metadata": {
  "kernelspec": {
   "display_name": "Python 3 (ipykernel)",
   "language": "python",
   "name": "python3"
  },
  "language_info": {
   "codemirror_mode": {
    "name": "ipython",
    "version": 3
   },
   "file_extension": ".py",
   "mimetype": "text/x-python",
   "name": "python",
   "nbconvert_exporter": "python",
   "pygments_lexer": "ipython3",
   "version": "3.11.6"
  }
 },
 "nbformat": 4,
 "nbformat_minor": 5
}
