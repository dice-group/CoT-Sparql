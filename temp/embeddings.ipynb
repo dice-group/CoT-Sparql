{
 "cells": [
  {
   "cell_type": "code",
   "execution_count": 56,
   "id": "14f563de-58c9-4ae6-a2d5-404b925f5191",
   "metadata": {
    "tags": []
   },
   "outputs": [],
   "source": [
    "import torch"
   ]
  },
  {
   "cell_type": "code",
   "execution_count": 5,
   "id": "f23b5771-fd33-47cf-9d1c-23b1b2d8250f",
   "metadata": {
    "tags": []
   },
   "outputs": [
    {
     "name": "stderr",
     "output_type": "stream",
     "text": [
      "/upb/users/m/manzoor/profiles/unix/cs/.conda/envs/sparqlgen/lib/python3.10/site-packages/tqdm/auto.py:21: TqdmWarning: IProgress not found. Please update jupyter and ipywidgets. See https://ipywidgets.readthedocs.io/en/stable/user_install.html\n",
      "  from .autonotebook import tqdm as notebook_tqdm\n"
     ]
    }
   ],
   "source": [
    "from sentence_transformers import SentenceTransformer\n",
    "import pandas as pd\n",
    "from sklearn.metrics.pairwise import cosine_similarity\n",
    "import numpy as np\n",
    "\n",
    "# Initialize the sentence transformer model\n",
    "model = SentenceTransformer('all-MiniLM-L6-v2')\n",
    "\n",
    "# Encode the sentences from your DataFrame\n",
    "embeddings = model.encode(df_lcquad['question'].tolist())\n"
   ]
  },
  {
   "cell_type": "code",
   "execution_count": 21,
   "id": "f5dee9b6-5208-463d-9fe6-58f8b309714d",
   "metadata": {
    "tags": []
   },
   "outputs": [
    {
     "name": "stdout",
     "output_type": "stream",
     "text": [
      "Similar Sentence: what is the smallest city by area in germany?\n",
      "SPARQL Query: PREFIX dbo: <http://dbpedia.org/ontology/> PREFIX skos: <http://www.w3.org/2004/02/skos/core#> PREFIX dbc: <http://dbpedia.org/resource/Category:> PREFIX dct: <http://purl.org/dc/terms/> SELECT ?city WHERE { ?m skos:broader dbc:Cities_in_Germany . ?city dct:subject ?m ; dbo:areaTotal ?area } ORDER BY ?area LIMIT 1\n",
      "entities: ['Cities_in_Germany']\n",
      " relations: ['areaTotal']\n"
     ]
    }
   ],
   "source": [
    "def find_similar_sentence(query, embeddings, df):\n",
    "    # Encode the query sentence to get its embedding\n",
    "    query_embedding = model.encode([query])[0]\n",
    "    \n",
    "    # Compute cosine similarities between the query embedding and all sentence embeddings\n",
    "    similarities = cosine_similarity([query_embedding], embeddings)[0]\n",
    "    \n",
    "    # Find the index of the sentence with the highest similarity\n",
    "    closest_index = np.argmax(similarities)\n",
    "    \n",
    "    # Fetch the most similar sentence and its SPARQL query from the DataFrame\n",
    "    similar_sentence = df.iloc[closest_index]['question']\n",
    "    sparql_query = df.iloc[closest_index]['query']\n",
    "    entities = df.iloc[closest_index]['entities']\n",
    "    relations = df.iloc[closest_index]['relations']\n",
    "    \n",
    "    return similar_sentence, sparql_query,entities,relations\n",
    "\n",
    "# Example query\n",
    "query_sentence = \"what is the capital of germany?\"\n",
    "similar_sentence, sparql_query,entities,relations = find_similar_sentence(query_sentence, embeddings, concatenated_df)\n",
    "print(\"Similar Sentence:\", similar_sentence)\n",
    "print(\"SPARQL Query:\", sparql_query)\n",
    "print(\"entities:\", entities)\n",
    "print(\" relations:\", relations)\n"
   ]
  },
  {
   "cell_type": "code",
   "execution_count": 2,
   "id": "af5db4f4-2e78-4dd8-a695-8009e2c50b5c",
   "metadata": {
    "tags": []
   },
   "outputs": [],
   "source": [
    "import pandas as pd\n",
    "import json\n",
    "with open('temp/train_lcquad2.json', 'r', encoding='utf-8') as file:\n",
    "    data = json.load(file)\n",
    "\n",
    "# Extract relevant data\n",
    "rows = []\n",
    "for item in data:\n",
    "       # print(question_data)\n",
    "        question_text_en = item['question']\n",
    "        query = item['sparql_wikidata']\n",
    "        relation = item['newPredLabels']\n",
    "        entities = item['new_LabelsEnt']\n",
    "\n",
    "        rows.append({\"question\": question_text_en, \"query\": query,\"entities\":entities, \"relations\":relation})\n",
    "        \n",
    "\n",
    "# Create a DataFrame\n",
    "df_lcquad = pd.DataFrame(rows)"
   ]
  },
  {
   "cell_type": "code",
   "execution_count": 3,
   "id": "71627627-0f97-405e-a3d5-b5c52ec3d14c",
   "metadata": {
    "tags": []
   },
   "outputs": [
    {
     "data": {
      "text/plain": [
       "21497"
      ]
     },
     "execution_count": 3,
     "metadata": {},
     "output_type": "execute_result"
    }
   ],
   "source": [
    "len(df_lcquad)"
   ]
  },
  {
   "cell_type": "code",
   "execution_count": 4,
   "id": "dbd79ea8-0202-43c8-b840-770fe3ae7e1b",
   "metadata": {
    "tags": []
   },
   "outputs": [
    {
     "data": {
      "text/html": [
       "<div>\n",
       "<style scoped>\n",
       "    .dataframe tbody tr th:only-of-type {\n",
       "        vertical-align: middle;\n",
       "    }\n",
       "\n",
       "    .dataframe tbody tr th {\n",
       "        vertical-align: top;\n",
       "    }\n",
       "\n",
       "    .dataframe thead th {\n",
       "        text-align: right;\n",
       "    }\n",
       "</style>\n",
       "<table border=\"1\" class=\"dataframe\">\n",
       "  <thead>\n",
       "    <tr style=\"text-align: right;\">\n",
       "      <th></th>\n",
       "      <th>question</th>\n",
       "      <th>query</th>\n",
       "      <th>entities</th>\n",
       "      <th>relations</th>\n",
       "    </tr>\n",
       "  </thead>\n",
       "  <tbody>\n",
       "    <tr>\n",
       "      <th>0</th>\n",
       "      <td>What periodical literature does Delta Air Line...</td>\n",
       "      <td>select distinct ?obj where { wd:Q188920 wdt:P...</td>\n",
       "      <td>[delta air lines: Q188920, periodical: Q1002697]</td>\n",
       "      <td>[house publication: P2813, instance of: P31]</td>\n",
       "    </tr>\n",
       "  </tbody>\n",
       "</table>\n",
       "</div>"
      ],
      "text/plain": [
       "                                            question  \\\n",
       "0  What periodical literature does Delta Air Line...   \n",
       "\n",
       "                                               query  \\\n",
       "0   select distinct ?obj where { wd:Q188920 wdt:P...   \n",
       "\n",
       "                                           entities  \\\n",
       "0  [delta air lines: Q188920, periodical: Q1002697]   \n",
       "\n",
       "                                      relations  \n",
       "0  [house publication: P2813, instance of: P31]  "
      ]
     },
     "execution_count": 4,
     "metadata": {},
     "output_type": "execute_result"
    }
   ],
   "source": [
    "df_lcquad.head(1)"
   ]
  },
  {
   "cell_type": "code",
   "execution_count": 6,
   "id": "bfd80191-3145-4a51-9fed-37bcb70fc081",
   "metadata": {
    "tags": []
   },
   "outputs": [],
   "source": [
    "df_lcquad.to_parquet('temp/wikidata_examples.parquet')"
   ]
  },
  {
   "cell_type": "code",
   "execution_count": 7,
   "id": "40105bee-2823-4739-8ca8-977ee81bca1e",
   "metadata": {
    "tags": []
   },
   "outputs": [],
   "source": [
    "import pickle\n",
    "\n",
    "# Save embeddings to a file\n",
    "with open('temp/embeddings_wikidata.pkl', 'wb') as f:\n",
    "    pickle.dump(embeddings, f)\n"
   ]
  },
  {
   "cell_type": "code",
   "execution_count": null,
   "id": "3d485565-fb24-4bcb-92cb-03eb718eeb97",
   "metadata": {},
   "outputs": [],
   "source": []
  },
  {
   "cell_type": "code",
   "execution_count": 10,
   "id": "a3560aa5-e0a0-427f-9ca1-0d6b1bc4c83b",
   "metadata": {
    "tags": []
   },
   "outputs": [],
   "source": [
    "with open('temp/train_qald.json', 'r', encoding='utf-8') as file:\n",
    "    data = json.load(file)\n",
    "\n",
    "# Extract relevant data\n",
    "rows = []\n",
    "for item in data:\n",
    "       # print(question_data)\n",
    "        question_text_en = item['en_ques']\n",
    "        query = item['sparql']\n",
    "        relation = item['relations']\n",
    "        entities = item['entities']\n",
    "\n",
    "        rows.append({\"question\": question_text_en, \"query\": query,\"entities\":entities, \"relations\":relation})\n",
    "\n",
    "# Create a DataFrame\n",
    "df_qald9 = pd.DataFrame(rows)"
   ]
  },
  {
   "cell_type": "code",
   "execution_count": 12,
   "id": "85dc83ee-98b1-432d-b73c-2609cdbd86b1",
   "metadata": {
    "tags": []
   },
   "outputs": [
    {
     "data": {
      "text/plain": [
       "350"
      ]
     },
     "execution_count": 12,
     "metadata": {},
     "output_type": "execute_result"
    }
   ],
   "source": [
    "len(df_qald9)"
   ]
  },
  {
   "cell_type": "code",
   "execution_count": 13,
   "id": "c305564a-d91a-463e-bd0a-387d94203e6f",
   "metadata": {
    "tags": []
   },
   "outputs": [],
   "source": [
    "with open('temp/train_vquanda.json', 'r', encoding='utf-8') as file:\n",
    "    data = json.load(file)\n",
    "\n",
    "# Extract relevant data\n",
    "rows = []\n",
    "for item in data:\n",
    "       # print(question_data)\n",
    "        question_text_en = item['en_ques']\n",
    "        query = item['sparql']\n",
    "        relation = item['relations']\n",
    "        entities = item['entities']\n",
    "\n",
    "        rows.append({\"question\": question_text_en, \"query\": query,\"entities\":entities, \"relations\":relation})\n",
    "\n",
    "# Create a DataFrame\n",
    "df_vquanda = pd.DataFrame(rows)"
   ]
  },
  {
   "cell_type": "code",
   "execution_count": 14,
   "id": "2d6113b6-756d-4e90-b5ae-18fe159833a6",
   "metadata": {
    "tags": []
   },
   "outputs": [
    {
     "data": {
      "text/plain": [
       "3500"
      ]
     },
     "execution_count": 14,
     "metadata": {},
     "output_type": "execute_result"
    }
   ],
   "source": [
    "len(df_vquanda)"
   ]
  },
  {
   "cell_type": "code",
   "execution_count": 15,
   "id": "eec63729-3173-47b0-b61f-9e673006e364",
   "metadata": {
    "tags": []
   },
   "outputs": [
    {
     "data": {
      "text/html": [
       "<div>\n",
       "<style scoped>\n",
       "    .dataframe tbody tr th:only-of-type {\n",
       "        vertical-align: middle;\n",
       "    }\n",
       "\n",
       "    .dataframe tbody tr th {\n",
       "        vertical-align: top;\n",
       "    }\n",
       "\n",
       "    .dataframe thead th {\n",
       "        text-align: right;\n",
       "    }\n",
       "</style>\n",
       "<table border=\"1\" class=\"dataframe\">\n",
       "  <thead>\n",
       "    <tr style=\"text-align: right;\">\n",
       "      <th></th>\n",
       "      <th>question</th>\n",
       "      <th>query</th>\n",
       "      <th>entities</th>\n",
       "      <th>relations</th>\n",
       "    </tr>\n",
       "  </thead>\n",
       "  <tbody>\n",
       "    <tr>\n",
       "      <th>0</th>\n",
       "      <td>Which universities are alma mater to Charles P...</td>\n",
       "      <td>SELECT DISTINCT ?uri WHERE { &lt;http://dbpedia.o...</td>\n",
       "      <td>[Charles_Plosser]</td>\n",
       "      <td>[almaMater]</td>\n",
       "    </tr>\n",
       "  </tbody>\n",
       "</table>\n",
       "</div>"
      ],
      "text/plain": [
       "                                            question  \\\n",
       "0  Which universities are alma mater to Charles P...   \n",
       "\n",
       "                                               query           entities  \\\n",
       "0  SELECT DISTINCT ?uri WHERE { <http://dbpedia.o...  [Charles_Plosser]   \n",
       "\n",
       "     relations  \n",
       "0  [almaMater]  "
      ]
     },
     "execution_count": 15,
     "metadata": {},
     "output_type": "execute_result"
    }
   ],
   "source": [
    "df_vquanda.head(1)"
   ]
  },
  {
   "cell_type": "code",
   "execution_count": 16,
   "id": "deedcb71-bd0c-49e5-9405-978e145b90fc",
   "metadata": {
    "tags": []
   },
   "outputs": [],
   "source": [
    "concatenated_df = pd.concat([df_qald9, df_vquanda], axis=0)"
   ]
  },
  {
   "cell_type": "code",
   "execution_count": 17,
   "id": "14583c01-04b4-431f-991c-828927c8bd7d",
   "metadata": {
    "tags": []
   },
   "outputs": [
    {
     "data": {
      "text/plain": [
       "3850"
      ]
     },
     "execution_count": 17,
     "metadata": {},
     "output_type": "execute_result"
    }
   ],
   "source": [
    "len(concatenated_df)"
   ]
  }
 ],
 "metadata": {
  "kernelspec": {
   "display_name": "sparqlgen",
   "language": "python",
   "name": "sparqlgen"
  },
  "language_info": {
   "codemirror_mode": {
    "name": "ipython",
    "version": 3
   },
   "file_extension": ".py",
   "mimetype": "text/x-python",
   "name": "python",
   "nbconvert_exporter": "python",
   "pygments_lexer": "ipython3",
   "version": "3.10.0"
  }
 },
 "nbformat": 4,
 "nbformat_minor": 5
}
